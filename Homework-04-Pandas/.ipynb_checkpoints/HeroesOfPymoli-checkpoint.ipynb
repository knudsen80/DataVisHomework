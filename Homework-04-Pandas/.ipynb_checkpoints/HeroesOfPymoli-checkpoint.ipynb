{
 "cells": [
  {
   "cell_type": "markdown",
   "metadata": {},
   "source": [
    "# Heroes of Pymoli Data Analysis\n",
    "\n",
    "Observable trends:\n",
    "1. Males (80%+) and ages 15-29 (70%+) are the core market.\n",
    "2. Even the most popular items have only been purchased by less than 2% of users (11/573, or less than 4% in the second data set which had less players and purchases), so there might be an opportunity to market these more, perhaps through peer pressure (i.e. sending messages like \"look what items your friends are buying\").\n",
    "3. On this note, there seems to be strong demand for products that cost 2x the most popular ones. For example, the retribution axe costs over $4, but is still the third highest selling item. Would need more info, but perhaps there is room to raise the price on some items. Would want to better understand \"why\" certain items get bought. I mean, are the most profitable items also more powerful in the game, or is it just a branding thing?"
   ]
  },
  {
   "cell_type": "code",
   "execution_count": 559,
   "metadata": {
    "collapsed": true
   },
   "outputs": [],
   "source": [
    "import pandas as pd\n",
    "\n",
    "purchase_data_json = \"purchase_data.json\"\n",
    "purchase_data_df = pd.read_json(purchase_data_json)"
   ]
  },
  {
   "cell_type": "markdown",
   "metadata": {
    "scrolled": false
   },
   "source": [
    "## Player Count"
   ]
  },
  {
   "cell_type": "code",
   "execution_count": 560,
   "metadata": {
    "scrolled": true
   },
   "outputs": [
    {
     "data": {
      "text/html": [
       "<div>\n",
       "<style>\n",
       "    .dataframe thead tr:only-child th {\n",
       "        text-align: right;\n",
       "    }\n",
       "\n",
       "    .dataframe thead th {\n",
       "        text-align: left;\n",
       "    }\n",
       "\n",
       "    .dataframe tbody tr th {\n",
       "        vertical-align: top;\n",
       "    }\n",
       "</style>\n",
       "<table border=\"1\" class=\"dataframe\">\n",
       "  <thead>\n",
       "    <tr style=\"text-align: right;\">\n",
       "      <th></th>\n",
       "      <th>Total Players</th>\n",
       "    </tr>\n",
       "  </thead>\n",
       "  <tbody>\n",
       "    <tr>\n",
       "      <th>0</th>\n",
       "      <td>573</td>\n",
       "    </tr>\n",
       "  </tbody>\n",
       "</table>\n",
       "</div>"
      ],
      "text/plain": [
       "   Total Players\n",
       "0            573"
      ]
     },
     "execution_count": 560,
     "metadata": {},
     "output_type": "execute_result"
    }
   ],
   "source": [
    "player_count = len(purchase_data_df[\"SN\"].unique())\n",
    "player_count_df = pd.DataFrame({\"Total Players\": [player_count]})\n",
    "player_count_df"
   ]
  },
  {
   "cell_type": "markdown",
   "metadata": {},
   "source": [
    "## Purchasing Analysis (Total)"
   ]
  },
  {
   "cell_type": "code",
   "execution_count": 561,
   "metadata": {},
   "outputs": [
    {
     "data": {
      "text/html": [
       "<div>\n",
       "<style>\n",
       "    .dataframe thead tr:only-child th {\n",
       "        text-align: right;\n",
       "    }\n",
       "\n",
       "    .dataframe thead th {\n",
       "        text-align: left;\n",
       "    }\n",
       "\n",
       "    .dataframe tbody tr th {\n",
       "        vertical-align: top;\n",
       "    }\n",
       "</style>\n",
       "<table border=\"1\" class=\"dataframe\">\n",
       "  <thead>\n",
       "    <tr style=\"text-align: right;\">\n",
       "      <th></th>\n",
       "      <th>Average Price</th>\n",
       "      <th>Number of Purchases</th>\n",
       "      <th>Number of Unique Items</th>\n",
       "      <th>Total Revenue</th>\n",
       "    </tr>\n",
       "  </thead>\n",
       "  <tbody>\n",
       "    <tr>\n",
       "      <th>0</th>\n",
       "      <td>$2.93</td>\n",
       "      <td>780</td>\n",
       "      <td>183</td>\n",
       "      <td>$2,286.33</td>\n",
       "    </tr>\n",
       "  </tbody>\n",
       "</table>\n",
       "</div>"
      ],
      "text/plain": [
       "  Average Price  Number of Purchases  Number of Unique Items Total Revenue\n",
       "0         $2.93                  780                     183     $2,286.33"
      ]
     },
     "execution_count": 561,
     "metadata": {},
     "output_type": "execute_result"
    }
   ],
   "source": [
    "unique_item_count = len(purchase_data_df[\"Item ID\"].unique())\n",
    "avg_purchase_price = purchase_data_df[\"Price\"].mean()\n",
    "total_num_purchases = len(purchase_data_df)\n",
    "total_revenue = purchase_data_df[\"Price\"].sum()\n",
    "\n",
    "purchasing_analysis_df = pd.DataFrame({\"Number of Unique Items\": [unique_item_count], \n",
    "                                       \"Average Price\": [avg_purchase_price], \n",
    "                                       \"Number of Purchases\": [total_num_purchases], \n",
    "                                       \"Total Revenue\": [total_revenue]})\n",
    "\n",
    "# Formatting\n",
    "purchasing_analysis_df[\"Average Price\"] = purchasing_analysis_df[\"Average Price\"].map(\"${:,.2f}\".format)\n",
    "purchasing_analysis_df[\"Total Revenue\"] = purchasing_analysis_df[\"Total Revenue\"].map(\"${:,.2f}\".format)\n",
    "purchasing_analysis_df.head()"
   ]
  },
  {
   "cell_type": "markdown",
   "metadata": {},
   "source": [
    "## Gender Demographics"
   ]
  },
  {
   "cell_type": "code",
   "execution_count": 562,
   "metadata": {},
   "outputs": [
    {
     "data": {
      "text/html": [
       "<div>\n",
       "<style>\n",
       "    .dataframe thead tr:only-child th {\n",
       "        text-align: right;\n",
       "    }\n",
       "\n",
       "    .dataframe thead th {\n",
       "        text-align: left;\n",
       "    }\n",
       "\n",
       "    .dataframe tbody tr th {\n",
       "        vertical-align: top;\n",
       "    }\n",
       "</style>\n",
       "<table border=\"1\" class=\"dataframe\">\n",
       "  <thead>\n",
       "    <tr style=\"text-align: right;\">\n",
       "      <th></th>\n",
       "      <th>Percentage of Players</th>\n",
       "      <th>Total Count</th>\n",
       "    </tr>\n",
       "  </thead>\n",
       "  <tbody>\n",
       "    <tr>\n",
       "      <th>Male</th>\n",
       "      <td>81.15</td>\n",
       "      <td>465</td>\n",
       "    </tr>\n",
       "    <tr>\n",
       "      <th>Female</th>\n",
       "      <td>17.45</td>\n",
       "      <td>100</td>\n",
       "    </tr>\n",
       "    <tr>\n",
       "      <th>Other / Non-Disclosed</th>\n",
       "      <td>1.40</td>\n",
       "      <td>8</td>\n",
       "    </tr>\n",
       "  </tbody>\n",
       "</table>\n",
       "</div>"
      ],
      "text/plain": [
       "                      Percentage of Players  Total Count\n",
       "Male                                  81.15          465\n",
       "Female                                17.45          100\n",
       "Other / Non-Disclosed                  1.40            8"
      ]
     },
     "execution_count": 562,
     "metadata": {},
     "output_type": "execute_result"
    }
   ],
   "source": [
    "gender_name_data_df = purchase_data_df[[\"SN\",\"Gender\"]]\n",
    "gender_name_data_df = gender_name_data_df.drop_duplicates([\"SN\"])\n",
    "\n",
    "gender_counts = gender_name_data_df[\"Gender\"].value_counts()\n",
    "\n",
    "gender_percentages = 100*gender_counts/player_count\n",
    "gender_percentages = gender_percentages.map(\"{:,.2f}\".format)\n",
    "\n",
    "gender_demographics_df = pd.DataFrame({\"Percentage of Players\":gender_percentages,\n",
    "                                       \"Total Count\":gender_counts})\n",
    "gender_demographics_df"
   ]
  },
  {
   "cell_type": "markdown",
   "metadata": {},
   "source": [
    "## Purchasing Analysis (Gender)"
   ]
  },
  {
   "cell_type": "code",
   "execution_count": 563,
   "metadata": {},
   "outputs": [
    {
     "name": "stderr",
     "output_type": "stream",
     "text": [
      "/Users/knudsen80/anaconda3/lib/python3.6/site-packages/ipykernel_launcher.py:31: SettingWithCopyWarning: \n",
      "A value is trying to be set on a copy of a slice from a DataFrame.\n",
      "Try using .loc[row_indexer,col_indexer] = value instead\n",
      "\n",
      "See the caveats in the documentation: http://pandas.pydata.org/pandas-docs/stable/indexing.html#indexing-view-versus-copy\n",
      "/Users/knudsen80/anaconda3/lib/python3.6/site-packages/ipykernel_launcher.py:32: SettingWithCopyWarning: \n",
      "A value is trying to be set on a copy of a slice from a DataFrame.\n",
      "Try using .loc[row_indexer,col_indexer] = value instead\n",
      "\n",
      "See the caveats in the documentation: http://pandas.pydata.org/pandas-docs/stable/indexing.html#indexing-view-versus-copy\n"
     ]
    },
    {
     "data": {
      "text/html": [
       "<div>\n",
       "<style>\n",
       "    .dataframe thead tr:only-child th {\n",
       "        text-align: right;\n",
       "    }\n",
       "\n",
       "    .dataframe thead th {\n",
       "        text-align: left;\n",
       "    }\n",
       "\n",
       "    .dataframe tbody tr th {\n",
       "        vertical-align: top;\n",
       "    }\n",
       "</style>\n",
       "<table border=\"1\" class=\"dataframe\">\n",
       "  <thead>\n",
       "    <tr style=\"text-align: right;\">\n",
       "      <th></th>\n",
       "      <th>Purchase Count</th>\n",
       "      <th>Average Purchase Price</th>\n",
       "      <th>Total Purchase Value</th>\n",
       "      <th>Normalized Totals</th>\n",
       "    </tr>\n",
       "  </thead>\n",
       "  <tbody>\n",
       "    <tr>\n",
       "      <th>Male</th>\n",
       "      <td>633</td>\n",
       "      <td>$2.95</td>\n",
       "      <td>$1,867.68</td>\n",
       "      <td>$4.02</td>\n",
       "    </tr>\n",
       "    <tr>\n",
       "      <th>Female</th>\n",
       "      <td>136</td>\n",
       "      <td>$2.82</td>\n",
       "      <td>$382.91</td>\n",
       "      <td>$3.83</td>\n",
       "    </tr>\n",
       "    <tr>\n",
       "      <th>Other / Non-Disclosed</th>\n",
       "      <td>11</td>\n",
       "      <td>$3.25</td>\n",
       "      <td>$35.74</td>\n",
       "      <td>$4.47</td>\n",
       "    </tr>\n",
       "  </tbody>\n",
       "</table>\n",
       "</div>"
      ],
      "text/plain": [
       "                       Purchase Count Average Purchase Price  \\\n",
       "Male                              633                  $2.95   \n",
       "Female                            136                  $2.82   \n",
       "Other / Non-Disclosed              11                  $3.25   \n",
       "\n",
       "                      Total Purchase Value Normalized Totals  \n",
       "Male                             $1,867.68             $4.02  \n",
       "Female                             $382.91             $3.83  \n",
       "Other / Non-Disclosed               $35.74             $4.47  "
      ]
     },
     "execution_count": 563,
     "metadata": {},
     "output_type": "execute_result"
    }
   ],
   "source": [
    "gender_purchase_data_df = purchase_data_df.groupby(['Gender'])\n",
    "\n",
    "gender_purchase_count = gender_purchase_data_df[\"SN\"].count()\n",
    "\n",
    "gender_avg_purchase_price = gender_purchase_data_df[\"Price\"].mean()\n",
    "gender_avg_purchase_price = gender_avg_purchase_price.map(\"${:,.2f}\".format)\n",
    "\n",
    "gender_total_purchase_value = gender_purchase_data_df[\"Price\"].sum()\n",
    "\n",
    "gender_purchasing_analysis_df = pd.DataFrame({\"Purchase Count\":gender_purchase_count,\n",
    "                                              \"Average Purchase Price\":gender_avg_purchase_price, \n",
    "                                              \"Total Purchase Value\": gender_total_purchase_value, \n",
    "                                              #\"Normalized Totals\": gender_normalized_purchase_price\n",
    "                                             })\n",
    "\n",
    "# Adding normalized column\n",
    "gender_demo_normalized_df = gender_demographics_df.merge(gender_purchasing_analysis_df, left_index = True,right_index = True)\n",
    "\n",
    "normalized_totals = gender_demo_normalized_df[\"Total Purchase Value\"]/gender_demo_normalized_df[\"Total Count\"]\n",
    "normalized_totals_df = pd.DataFrame(normalized_totals,columns=[\"Normalized Totals\"])\n",
    "\n",
    "gender_demo_normalized_df = gender_demo_normalized_df.merge(normalized_totals_df, left_index = True,right_index = True)\n",
    "\n",
    "new_gender_purchasing_analysis_df = gender_demo_normalized_df[[\"Purchase Count\",\n",
    "                                              \"Average Purchase Price\", \n",
    "                                              \"Total Purchase Value\", \n",
    "                                              \"Normalized Totals\"\n",
    "                                                              ]]\n",
    "\n",
    "# Formatting\n",
    "new_gender_purchasing_analysis_df['Total Purchase Value'] = new_gender_purchasing_analysis_df['Total Purchase Value'].map(\"${:,.2f}\".format)\n",
    "new_gender_purchasing_analysis_df['Normalized Totals'] = new_gender_purchasing_analysis_df['Normalized Totals'].map(\"${:,.2f}\".format)\n",
    "new_gender_purchasing_analysis_df"
   ]
  },
  {
   "cell_type": "markdown",
   "metadata": {},
   "source": [
    "## Age Demographics"
   ]
  },
  {
   "cell_type": "code",
   "execution_count": 564,
   "metadata": {},
   "outputs": [
    {
     "name": "stderr",
     "output_type": "stream",
     "text": [
      "/Users/knudsen80/anaconda3/lib/python3.6/site-packages/ipykernel_launcher.py:9: SettingWithCopyWarning: \n",
      "A value is trying to be set on a copy of a slice from a DataFrame.\n",
      "Try using .loc[row_indexer,col_indexer] = value instead\n",
      "\n",
      "See the caveats in the documentation: http://pandas.pydata.org/pandas-docs/stable/indexing.html#indexing-view-versus-copy\n",
      "  if __name__ == '__main__':\n"
     ]
    },
    {
     "data": {
      "text/html": [
       "<div>\n",
       "<style>\n",
       "    .dataframe thead tr:only-child th {\n",
       "        text-align: right;\n",
       "    }\n",
       "\n",
       "    .dataframe thead th {\n",
       "        text-align: left;\n",
       "    }\n",
       "\n",
       "    .dataframe tbody tr th {\n",
       "        vertical-align: top;\n",
       "    }\n",
       "</style>\n",
       "<table border=\"1\" class=\"dataframe\">\n",
       "  <thead>\n",
       "    <tr style=\"text-align: right;\">\n",
       "      <th></th>\n",
       "      <th>Percentage of Players</th>\n",
       "      <th>Total Count</th>\n",
       "    </tr>\n",
       "    <tr>\n",
       "      <th>Age Buckets</th>\n",
       "      <th></th>\n",
       "      <th></th>\n",
       "    </tr>\n",
       "  </thead>\n",
       "  <tbody>\n",
       "    <tr>\n",
       "      <th>&lt;10</th>\n",
       "      <td>3.32</td>\n",
       "      <td>19</td>\n",
       "    </tr>\n",
       "    <tr>\n",
       "      <th>10-14</th>\n",
       "      <td>4.01</td>\n",
       "      <td>23</td>\n",
       "    </tr>\n",
       "    <tr>\n",
       "      <th>15-19</th>\n",
       "      <td>17.45</td>\n",
       "      <td>100</td>\n",
       "    </tr>\n",
       "    <tr>\n",
       "      <th>20-24</th>\n",
       "      <td>45.20</td>\n",
       "      <td>259</td>\n",
       "    </tr>\n",
       "    <tr>\n",
       "      <th>25-29</th>\n",
       "      <td>15.18</td>\n",
       "      <td>87</td>\n",
       "    </tr>\n",
       "    <tr>\n",
       "      <th>30-34</th>\n",
       "      <td>8.20</td>\n",
       "      <td>47</td>\n",
       "    </tr>\n",
       "    <tr>\n",
       "      <th>35-39</th>\n",
       "      <td>4.71</td>\n",
       "      <td>27</td>\n",
       "    </tr>\n",
       "    <tr>\n",
       "      <th>40+</th>\n",
       "      <td>1.92</td>\n",
       "      <td>11</td>\n",
       "    </tr>\n",
       "  </tbody>\n",
       "</table>\n",
       "</div>"
      ],
      "text/plain": [
       "            Percentage of Players  Total Count\n",
       "Age Buckets                                   \n",
       "<10                          3.32           19\n",
       "10-14                        4.01           23\n",
       "15-19                       17.45          100\n",
       "20-24                       45.20          259\n",
       "25-29                       15.18           87\n",
       "30-34                        8.20           47\n",
       "35-39                        4.71           27\n",
       "40+                          1.92           11"
      ]
     },
     "execution_count": 564,
     "metadata": {},
     "output_type": "execute_result"
    }
   ],
   "source": [
    "# Note: They ask for \"bins of 4 years\" but give an example of 5 year bins.\n",
    "bins = [0,9,14,19,24,29,34,39,199]\n",
    "group_names = ['<10','10-14','15-19','20-24','25-29','30-34','35-39','40+']\n",
    "\n",
    "age_purchase_data_df = purchase_data_df[[\"SN\",\"Age\",\"Price\"]]\n",
    "age_name_data_df = age_purchase_data_df.drop_duplicates([\"SN\"])\n",
    "\n",
    "pd.cut(age_name_data_df[\"Age\"], bins, labels=group_names)\n",
    "age_name_data_df[\"Age Buckets\"] = pd.cut(age_name_data_df[\"Age\"], bins, labels=group_names)\n",
    "\n",
    "age_name_data_groups_df = age_name_data_df.groupby(\"Age Buckets\")\n",
    "\n",
    "age_counts = age_name_data_groups_df[\"Age\"].count()\n",
    "\n",
    "age_percentages = 100*age_counts/player_count\n",
    "age_percentages = age_percentages.map(\"{:,.2f}\".format)\n",
    "\n",
    "age_demographics_df = pd.DataFrame({\"Percentage of Players\":age_percentages,\n",
    "                                       \"Total Count\":age_counts})\n",
    "age_demographics_df"
   ]
  },
  {
   "cell_type": "markdown",
   "metadata": {},
   "source": [
    "## Purchasing Analysis (Age)"
   ]
  },
  {
   "cell_type": "code",
   "execution_count": 565,
   "metadata": {},
   "outputs": [
    {
     "name": "stderr",
     "output_type": "stream",
     "text": [
      "/Users/knudsen80/anaconda3/lib/python3.6/site-packages/ipykernel_launcher.py:2: SettingWithCopyWarning: \n",
      "A value is trying to be set on a copy of a slice from a DataFrame.\n",
      "Try using .loc[row_indexer,col_indexer] = value instead\n",
      "\n",
      "See the caveats in the documentation: http://pandas.pydata.org/pandas-docs/stable/indexing.html#indexing-view-versus-copy\n",
      "  \n",
      "/Users/knudsen80/anaconda3/lib/python3.6/site-packages/ipykernel_launcher.py:34: SettingWithCopyWarning: \n",
      "A value is trying to be set on a copy of a slice from a DataFrame.\n",
      "Try using .loc[row_indexer,col_indexer] = value instead\n",
      "\n",
      "See the caveats in the documentation: http://pandas.pydata.org/pandas-docs/stable/indexing.html#indexing-view-versus-copy\n",
      "/Users/knudsen80/anaconda3/lib/python3.6/site-packages/ipykernel_launcher.py:35: SettingWithCopyWarning: \n",
      "A value is trying to be set on a copy of a slice from a DataFrame.\n",
      "Try using .loc[row_indexer,col_indexer] = value instead\n",
      "\n",
      "See the caveats in the documentation: http://pandas.pydata.org/pandas-docs/stable/indexing.html#indexing-view-versus-copy\n"
     ]
    },
    {
     "data": {
      "text/html": [
       "<div>\n",
       "<style>\n",
       "    .dataframe thead tr:only-child th {\n",
       "        text-align: right;\n",
       "    }\n",
       "\n",
       "    .dataframe thead th {\n",
       "        text-align: left;\n",
       "    }\n",
       "\n",
       "    .dataframe tbody tr th {\n",
       "        vertical-align: top;\n",
       "    }\n",
       "</style>\n",
       "<table border=\"1\" class=\"dataframe\">\n",
       "  <thead>\n",
       "    <tr style=\"text-align: right;\">\n",
       "      <th></th>\n",
       "      <th>Purchase Count</th>\n",
       "      <th>Average Purchase Price</th>\n",
       "      <th>Total Purchase Value</th>\n",
       "      <th>Normalized Totals</th>\n",
       "    </tr>\n",
       "    <tr>\n",
       "      <th>Age Buckets</th>\n",
       "      <th></th>\n",
       "      <th></th>\n",
       "      <th></th>\n",
       "      <th></th>\n",
       "    </tr>\n",
       "  </thead>\n",
       "  <tbody>\n",
       "    <tr>\n",
       "      <th>&lt;10</th>\n",
       "      <td>28</td>\n",
       "      <td>$2.98</td>\n",
       "      <td>$83.46</td>\n",
       "      <td>$4.39</td>\n",
       "    </tr>\n",
       "    <tr>\n",
       "      <th>10-14</th>\n",
       "      <td>35</td>\n",
       "      <td>$2.77</td>\n",
       "      <td>$96.95</td>\n",
       "      <td>$4.22</td>\n",
       "    </tr>\n",
       "    <tr>\n",
       "      <th>15-19</th>\n",
       "      <td>133</td>\n",
       "      <td>$2.91</td>\n",
       "      <td>$386.42</td>\n",
       "      <td>$3.86</td>\n",
       "    </tr>\n",
       "    <tr>\n",
       "      <th>20-24</th>\n",
       "      <td>336</td>\n",
       "      <td>$2.91</td>\n",
       "      <td>$978.77</td>\n",
       "      <td>$3.78</td>\n",
       "    </tr>\n",
       "    <tr>\n",
       "      <th>25-29</th>\n",
       "      <td>125</td>\n",
       "      <td>$2.96</td>\n",
       "      <td>$370.33</td>\n",
       "      <td>$4.26</td>\n",
       "    </tr>\n",
       "    <tr>\n",
       "      <th>30-34</th>\n",
       "      <td>64</td>\n",
       "      <td>$3.08</td>\n",
       "      <td>$197.25</td>\n",
       "      <td>$4.20</td>\n",
       "    </tr>\n",
       "    <tr>\n",
       "      <th>35-39</th>\n",
       "      <td>42</td>\n",
       "      <td>$2.84</td>\n",
       "      <td>$119.40</td>\n",
       "      <td>$4.42</td>\n",
       "    </tr>\n",
       "    <tr>\n",
       "      <th>40+</th>\n",
       "      <td>17</td>\n",
       "      <td>$3.16</td>\n",
       "      <td>$53.75</td>\n",
       "      <td>$4.89</td>\n",
       "    </tr>\n",
       "  </tbody>\n",
       "</table>\n",
       "</div>"
      ],
      "text/plain": [
       "             Purchase Count Average Purchase Price Total Purchase Value  \\\n",
       "Age Buckets                                                               \n",
       "<10                      28                  $2.98               $83.46   \n",
       "10-14                    35                  $2.77               $96.95   \n",
       "15-19                   133                  $2.91              $386.42   \n",
       "20-24                   336                  $2.91              $978.77   \n",
       "25-29                   125                  $2.96              $370.33   \n",
       "30-34                    64                  $3.08              $197.25   \n",
       "35-39                    42                  $2.84              $119.40   \n",
       "40+                      17                  $3.16               $53.75   \n",
       "\n",
       "            Normalized Totals  \n",
       "Age Buckets                    \n",
       "<10                     $4.39  \n",
       "10-14                   $4.22  \n",
       "15-19                   $3.86  \n",
       "20-24                   $3.78  \n",
       "25-29                   $4.26  \n",
       "30-34                   $4.20  \n",
       "35-39                   $4.42  \n",
       "40+                     $4.89  "
      ]
     },
     "execution_count": 565,
     "metadata": {},
     "output_type": "execute_result"
    }
   ],
   "source": [
    "pd.cut(age_purchase_data_df[\"Age\"], bins, labels=group_names)\n",
    "age_purchase_data_df[\"Age Buckets\"] = pd.cut(age_purchase_data_df[\"Age\"], bins, labels=group_names)\n",
    "\n",
    "age_purchase_data_groups_df = age_purchase_data_df.groupby(\"Age Buckets\")\n",
    "\n",
    "age_purchase_count = age_purchase_data_groups_df[\"SN\"].count()\n",
    "\n",
    "age_avg_purchase_price = age_purchase_data_groups_df[\"Price\"].mean()\n",
    "age_avg_purchase_price = age_avg_purchase_price.map(\"${:,.2f}\".format)\n",
    "\n",
    "age_total_purchase_value = age_purchase_data_groups_df[\"Price\"].sum()\n",
    "\n",
    "age_purchasing_analysis_df = pd.DataFrame({\"Purchase Count\":age_purchase_count,\n",
    "                                              \"Average Purchase Price\":age_avg_purchase_price, \n",
    "                                              \"Total Purchase Value\": age_total_purchase_value, \n",
    "                                              #\"Normalized Totals\": age_normalized_totals\n",
    "                                             })\n",
    "\n",
    "# Adding normalized column\n",
    "age_demo_normalized_df = age_demographics_df.merge(age_purchasing_analysis_df, left_index = True,right_index = True)\n",
    "\n",
    "age_normalized_totals = age_demo_normalized_df[\"Total Purchase Value\"]/age_demo_normalized_df[\"Total Count\"]\n",
    "age_normalized_totals_df = pd.DataFrame(age_normalized_totals,columns=[\"Normalized Totals\"])\n",
    "\n",
    "age_demo_normalized_df = age_demo_normalized_df.merge(age_normalized_totals_df, left_index = True,right_index = True)\n",
    "\n",
    "new_age_purchasing_analysis_df = age_demo_normalized_df[[\"Purchase Count\",\n",
    "                                              \"Average Purchase Price\", \n",
    "                                              \"Total Purchase Value\", \n",
    "                                              \"Normalized Totals\"\n",
    "                                                              ]]\n",
    "\n",
    "# Formatting\n",
    "new_age_purchasing_analysis_df['Total Purchase Value'] = new_age_purchasing_analysis_df['Total Purchase Value'].map(\"${:,.2f}\".format)\n",
    "new_age_purchasing_analysis_df['Normalized Totals'] = new_age_purchasing_analysis_df['Normalized Totals'].map(\"${:,.2f}\".format)\n",
    "new_age_purchasing_analysis_df"
   ]
  },
  {
   "cell_type": "markdown",
   "metadata": {},
   "source": [
    "## Top Spenders"
   ]
  },
  {
   "cell_type": "code",
   "execution_count": 566,
   "metadata": {},
   "outputs": [
    {
     "data": {
      "text/html": [
       "<style  type=\"text/css\" >\n",
       "</style>  \n",
       "<table id=\"T_4a962ca8_191d_11e8_a91f_acde48001122\" > \n",
       "<thead>    <tr> \n",
       "        <th class=\"blank level0\" ></th> \n",
       "        <th class=\"col_heading level0 col0\" >Average Purchase Price</th> \n",
       "        <th class=\"col_heading level0 col1\" >Purchase Count</th> \n",
       "        <th class=\"col_heading level0 col2\" >Total Purchase Value</th> \n",
       "    </tr>    <tr> \n",
       "        <th class=\"index_name level0\" >SN</th> \n",
       "        <th class=\"blank\" ></th> \n",
       "        <th class=\"blank\" ></th> \n",
       "        <th class=\"blank\" ></th> \n",
       "    </tr></thead> \n",
       "<tbody>    <tr> \n",
       "        <th id=\"T_4a962ca8_191d_11e8_a91f_acde48001122level0_row0\" class=\"row_heading level0 row0\" >Undirrala66</th> \n",
       "        <td id=\"T_4a962ca8_191d_11e8_a91f_acde48001122row0_col0\" class=\"data row0 col0\" >$3.41</td> \n",
       "        <td id=\"T_4a962ca8_191d_11e8_a91f_acde48001122row0_col1\" class=\"data row0 col1\" >5</td> \n",
       "        <td id=\"T_4a962ca8_191d_11e8_a91f_acde48001122row0_col2\" class=\"data row0 col2\" >$17.06</td> \n",
       "    </tr>    <tr> \n",
       "        <th id=\"T_4a962ca8_191d_11e8_a91f_acde48001122level0_row1\" class=\"row_heading level0 row1\" >Saedue76</th> \n",
       "        <td id=\"T_4a962ca8_191d_11e8_a91f_acde48001122row1_col0\" class=\"data row1 col0\" >$3.39</td> \n",
       "        <td id=\"T_4a962ca8_191d_11e8_a91f_acde48001122row1_col1\" class=\"data row1 col1\" >4</td> \n",
       "        <td id=\"T_4a962ca8_191d_11e8_a91f_acde48001122row1_col2\" class=\"data row1 col2\" >$13.56</td> \n",
       "    </tr>    <tr> \n",
       "        <th id=\"T_4a962ca8_191d_11e8_a91f_acde48001122level0_row2\" class=\"row_heading level0 row2\" >Mindimnya67</th> \n",
       "        <td id=\"T_4a962ca8_191d_11e8_a91f_acde48001122row2_col0\" class=\"data row2 col0\" >$3.18</td> \n",
       "        <td id=\"T_4a962ca8_191d_11e8_a91f_acde48001122row2_col1\" class=\"data row2 col1\" >4</td> \n",
       "        <td id=\"T_4a962ca8_191d_11e8_a91f_acde48001122row2_col2\" class=\"data row2 col2\" >$12.74</td> \n",
       "    </tr>    <tr> \n",
       "        <th id=\"T_4a962ca8_191d_11e8_a91f_acde48001122level0_row3\" class=\"row_heading level0 row3\" >Haellysu29</th> \n",
       "        <td id=\"T_4a962ca8_191d_11e8_a91f_acde48001122row3_col0\" class=\"data row3 col0\" >$4.24</td> \n",
       "        <td id=\"T_4a962ca8_191d_11e8_a91f_acde48001122row3_col1\" class=\"data row3 col1\" >3</td> \n",
       "        <td id=\"T_4a962ca8_191d_11e8_a91f_acde48001122row3_col2\" class=\"data row3 col2\" >$12.73</td> \n",
       "    </tr>    <tr> \n",
       "        <th id=\"T_4a962ca8_191d_11e8_a91f_acde48001122level0_row4\" class=\"row_heading level0 row4\" >Eoda93</th> \n",
       "        <td id=\"T_4a962ca8_191d_11e8_a91f_acde48001122row4_col0\" class=\"data row4 col0\" >$3.86</td> \n",
       "        <td id=\"T_4a962ca8_191d_11e8_a91f_acde48001122row4_col1\" class=\"data row4 col1\" >3</td> \n",
       "        <td id=\"T_4a962ca8_191d_11e8_a91f_acde48001122row4_col2\" class=\"data row4 col2\" >$11.58</td> \n",
       "    </tr></tbody> \n",
       "</table> "
      ],
      "text/plain": [
       "<pandas.io.formats.style.Styler at 0x111d9d7b8>"
      ]
     },
     "execution_count": 566,
     "metadata": {},
     "output_type": "execute_result"
    }
   ],
   "source": [
    "sn_purchase_data_df = purchase_data_df.groupby(['SN'])\n",
    "\n",
    "sn_purchase_count = sn_purchase_data_df[\"SN\"].count()\n",
    "\n",
    "sn_avg_purchase_price = sn_purchase_data_df[\"Price\"].mean()\n",
    "\n",
    "sn_total_purchase_value = sn_purchase_data_df[\"Price\"].sum()\n",
    "\n",
    "sn_purchasing_analysis_df = pd.DataFrame({\"Purchase Count\":sn_purchase_count,\n",
    "                                              \"Average Purchase Price\":sn_avg_purchase_price, \n",
    "                                              \"Total Purchase Value\":sn_total_purchase_value, \n",
    "                                             })\n",
    "\n",
    "sorted_sn_purchasing_analysis_df = sn_purchasing_analysis_df.sort_values(\"Total Purchase Value\",ascending=False).head(5)\n",
    "\n",
    "sorted_sn_purchasing_analysis_df.style.format({\n",
    "    'Average Purchase Price': '${:,.2f}'.format,\n",
    "    'Total Purchase Value': '${:,.2f}'.format\n",
    "    })"
   ]
  },
  {
   "cell_type": "markdown",
   "metadata": {},
   "source": [
    "## Most Popular Items"
   ]
  },
  {
   "cell_type": "code",
   "execution_count": 567,
   "metadata": {},
   "outputs": [
    {
     "name": "stderr",
     "output_type": "stream",
     "text": [
      "/Users/knudsen80/anaconda3/lib/python3.6/site-packages/pandas/core/frame.py:2746: SettingWithCopyWarning: \n",
      "A value is trying to be set on a copy of a slice from a DataFrame\n",
      "\n",
      "See the caveats in the documentation: http://pandas.pydata.org/pandas-docs/stable/indexing.html#indexing-view-versus-copy\n",
      "  **kwargs)\n"
     ]
    },
    {
     "data": {
      "text/html": [
       "<style  type=\"text/css\" >\n",
       "</style>  \n",
       "<table id=\"T_4b20d1c0_191d_11e8_8f9a_acde48001122\" > \n",
       "<thead>    <tr> \n",
       "        <th class=\"blank level0\" ></th> \n",
       "        <th class=\"col_heading level0 col0\" >Item ID</th> \n",
       "        <th class=\"col_heading level0 col1\" >Item Name</th> \n",
       "        <th class=\"col_heading level0 col2\" >Purchase Count</th> \n",
       "        <th class=\"col_heading level0 col3\" >Item Price</th> \n",
       "        <th class=\"col_heading level0 col4\" >Total Purchase Value</th> \n",
       "    </tr></thead> \n",
       "<tbody>    <tr> \n",
       "        <th id=\"T_4b20d1c0_191d_11e8_8f9a_acde48001122level0_row0\" class=\"row_heading level0 row0\" >61</th> \n",
       "        <td id=\"T_4b20d1c0_191d_11e8_8f9a_acde48001122row0_col0\" class=\"data row0 col0\" >39</td> \n",
       "        <td id=\"T_4b20d1c0_191d_11e8_8f9a_acde48001122row0_col1\" class=\"data row0 col1\" >Betrayal, Whisper of Grieving Widows</td> \n",
       "        <td id=\"T_4b20d1c0_191d_11e8_8f9a_acde48001122row0_col2\" class=\"data row0 col2\" >11</td> \n",
       "        <td id=\"T_4b20d1c0_191d_11e8_8f9a_acde48001122row0_col3\" class=\"data row0 col3\" >$2.35</td> \n",
       "        <td id=\"T_4b20d1c0_191d_11e8_8f9a_acde48001122row0_col4\" class=\"data row0 col4\" >$25.85</td> \n",
       "    </tr>    <tr> \n",
       "        <th id=\"T_4b20d1c0_191d_11e8_8f9a_acde48001122level0_row1\" class=\"row_heading level0 row1\" >116</th> \n",
       "        <td id=\"T_4b20d1c0_191d_11e8_8f9a_acde48001122row1_col0\" class=\"data row1 col0\" >84</td> \n",
       "        <td id=\"T_4b20d1c0_191d_11e8_8f9a_acde48001122row1_col1\" class=\"data row1 col1\" >Arcane Gem</td> \n",
       "        <td id=\"T_4b20d1c0_191d_11e8_8f9a_acde48001122row1_col2\" class=\"data row1 col2\" >11</td> \n",
       "        <td id=\"T_4b20d1c0_191d_11e8_8f9a_acde48001122row1_col3\" class=\"data row1 col3\" >$2.23</td> \n",
       "        <td id=\"T_4b20d1c0_191d_11e8_8f9a_acde48001122row1_col4\" class=\"data row1 col4\" >$24.53</td> \n",
       "    </tr>    <tr> \n",
       "        <th id=\"T_4b20d1c0_191d_11e8_8f9a_acde48001122level0_row2\" class=\"row_heading level0 row2\" >81</th> \n",
       "        <td id=\"T_4b20d1c0_191d_11e8_8f9a_acde48001122row2_col0\" class=\"data row2 col0\" >175</td> \n",
       "        <td id=\"T_4b20d1c0_191d_11e8_8f9a_acde48001122row2_col1\" class=\"data row2 col1\" >Woeful Adamantite Claymore</td> \n",
       "        <td id=\"T_4b20d1c0_191d_11e8_8f9a_acde48001122row2_col2\" class=\"data row2 col2\" >9</td> \n",
       "        <td id=\"T_4b20d1c0_191d_11e8_8f9a_acde48001122row2_col3\" class=\"data row2 col3\" >$1.24</td> \n",
       "        <td id=\"T_4b20d1c0_191d_11e8_8f9a_acde48001122row2_col4\" class=\"data row2 col4\" >$11.16</td> \n",
       "    </tr>    <tr> \n",
       "        <th id=\"T_4b20d1c0_191d_11e8_8f9a_acde48001122level0_row3\" class=\"row_heading level0 row3\" >35</th> \n",
       "        <td id=\"T_4b20d1c0_191d_11e8_8f9a_acde48001122row3_col0\" class=\"data row3 col0\" >13</td> \n",
       "        <td id=\"T_4b20d1c0_191d_11e8_8f9a_acde48001122row3_col1\" class=\"data row3 col1\" >Serenity</td> \n",
       "        <td id=\"T_4b20d1c0_191d_11e8_8f9a_acde48001122row3_col2\" class=\"data row3 col2\" >9</td> \n",
       "        <td id=\"T_4b20d1c0_191d_11e8_8f9a_acde48001122row3_col3\" class=\"data row3 col3\" >$1.49</td> \n",
       "        <td id=\"T_4b20d1c0_191d_11e8_8f9a_acde48001122row3_col4\" class=\"data row3 col4\" >$13.41</td> \n",
       "    </tr>    <tr> \n",
       "        <th id=\"T_4b20d1c0_191d_11e8_8f9a_acde48001122level0_row4\" class=\"row_heading level0 row4\" >56</th> \n",
       "        <td id=\"T_4b20d1c0_191d_11e8_8f9a_acde48001122row4_col0\" class=\"data row4 col0\" >31</td> \n",
       "        <td id=\"T_4b20d1c0_191d_11e8_8f9a_acde48001122row4_col1\" class=\"data row4 col1\" >Trickster</td> \n",
       "        <td id=\"T_4b20d1c0_191d_11e8_8f9a_acde48001122row4_col2\" class=\"data row4 col2\" >9</td> \n",
       "        <td id=\"T_4b20d1c0_191d_11e8_8f9a_acde48001122row4_col3\" class=\"data row4 col3\" >$2.07</td> \n",
       "        <td id=\"T_4b20d1c0_191d_11e8_8f9a_acde48001122row4_col4\" class=\"data row4 col4\" >$18.63</td> \n",
       "    </tr></tbody> \n",
       "</table> "
      ],
      "text/plain": [
       "<pandas.io.formats.style.Styler at 0x111d1b860>"
      ]
     },
     "execution_count": 567,
     "metadata": {},
     "output_type": "execute_result"
    }
   ],
   "source": [
    "item_purchase_data_df = purchase_data_df.groupby(['Item ID'])\n",
    "\n",
    "item_purchase_count = pd.DataFrame(item_purchase_data_df[\"Item ID\"].count())\n",
    "item_purchase_count.rename(columns = {\"Item ID\": \"Purchase Count\"}, inplace = True)\n",
    "\n",
    "item_total_purchase_value = pd.DataFrame(item_purchase_data_df[\"Price\"].sum())\n",
    "item_total_purchase_value.rename(columns = {\"Price\": \"Total Purchase Value\"}, inplace = True)\n",
    "\n",
    "item_list = purchase_data_df.drop_duplicates('Item ID')\n",
    "item_list.rename(columns = {\"Price\":\"Item Price\"}, inplace = True)\n",
    "\n",
    "item_purchasing_analysis_df = item_list.merge(item_purchase_count, left_on=\"Item ID\", right_index = True)\n",
    "item_purchasing_analysis_df = item_purchasing_analysis_df.merge(item_total_purchase_value, left_on=\"Item ID\", right_index = True)\n",
    "\n",
    "item_purchasing_analysis_df = item_purchasing_analysis_df[[\"Item ID\",\"Item Name\",\"Purchase Count\",\"Item Price\",\"Total Purchase Value\"]] \n",
    "\n",
    "sorted_popular_item_df = item_purchasing_analysis_df.sort_values(\"Purchase Count\",ascending=False).head(5)\n",
    "\n",
    "sorted_popular_item_df.style.format({\n",
    "    'Item Price': '${:,.2f}'.format,\n",
    "    'Total Purchase Value': '${:,.2f}'.format\n",
    "    })"
   ]
  },
  {
   "cell_type": "markdown",
   "metadata": {},
   "source": [
    "## Most Profitable Items"
   ]
  },
  {
   "cell_type": "code",
   "execution_count": 568,
   "metadata": {},
   "outputs": [
    {
     "data": {
      "text/html": [
       "<style  type=\"text/css\" >\n",
       "</style>  \n",
       "<table id=\"T_4c0adf40_191d_11e8_9b66_acde48001122\" > \n",
       "<thead>    <tr> \n",
       "        <th class=\"blank level0\" ></th> \n",
       "        <th class=\"col_heading level0 col0\" >Item ID</th> \n",
       "        <th class=\"col_heading level0 col1\" >Item Name</th> \n",
       "        <th class=\"col_heading level0 col2\" >Purchase Count</th> \n",
       "        <th class=\"col_heading level0 col3\" >Item Price</th> \n",
       "        <th class=\"col_heading level0 col4\" >Total Purchase Value</th> \n",
       "    </tr></thead> \n",
       "<tbody>    <tr> \n",
       "        <th id=\"T_4c0adf40_191d_11e8_9b66_acde48001122level0_row0\" class=\"row_heading level0 row0\" >57</th> \n",
       "        <td id=\"T_4c0adf40_191d_11e8_9b66_acde48001122row0_col0\" class=\"data row0 col0\" >34</td> \n",
       "        <td id=\"T_4c0adf40_191d_11e8_9b66_acde48001122row0_col1\" class=\"data row0 col1\" >Retribution Axe</td> \n",
       "        <td id=\"T_4c0adf40_191d_11e8_9b66_acde48001122row0_col2\" class=\"data row0 col2\" >9</td> \n",
       "        <td id=\"T_4c0adf40_191d_11e8_9b66_acde48001122row0_col3\" class=\"data row0 col3\" >$4.14</td> \n",
       "        <td id=\"T_4c0adf40_191d_11e8_9b66_acde48001122row0_col4\" class=\"data row0 col4\" >$37.26</td> \n",
       "    </tr>    <tr> \n",
       "        <th id=\"T_4c0adf40_191d_11e8_9b66_acde48001122level0_row1\" class=\"row_heading level0 row1\" >107</th> \n",
       "        <td id=\"T_4c0adf40_191d_11e8_9b66_acde48001122row1_col0\" class=\"data row1 col0\" >115</td> \n",
       "        <td id=\"T_4c0adf40_191d_11e8_9b66_acde48001122row1_col1\" class=\"data row1 col1\" >Spectral Diamond Doomblade</td> \n",
       "        <td id=\"T_4c0adf40_191d_11e8_9b66_acde48001122row1_col2\" class=\"data row1 col2\" >7</td> \n",
       "        <td id=\"T_4c0adf40_191d_11e8_9b66_acde48001122row1_col3\" class=\"data row1 col3\" >$4.25</td> \n",
       "        <td id=\"T_4c0adf40_191d_11e8_9b66_acde48001122row1_col4\" class=\"data row1 col4\" >$29.75</td> \n",
       "    </tr>    <tr> \n",
       "        <th id=\"T_4c0adf40_191d_11e8_9b66_acde48001122level0_row2\" class=\"row_heading level0 row2\" >50</th> \n",
       "        <td id=\"T_4c0adf40_191d_11e8_9b66_acde48001122row2_col0\" class=\"data row2 col0\" >32</td> \n",
       "        <td id=\"T_4c0adf40_191d_11e8_9b66_acde48001122row2_col1\" class=\"data row2 col1\" >Orenmir</td> \n",
       "        <td id=\"T_4c0adf40_191d_11e8_9b66_acde48001122row2_col2\" class=\"data row2 col2\" >6</td> \n",
       "        <td id=\"T_4c0adf40_191d_11e8_9b66_acde48001122row2_col3\" class=\"data row2 col3\" >$4.95</td> \n",
       "        <td id=\"T_4c0adf40_191d_11e8_9b66_acde48001122row2_col4\" class=\"data row2 col4\" >$29.70</td> \n",
       "    </tr>    <tr> \n",
       "        <th id=\"T_4c0adf40_191d_11e8_9b66_acde48001122level0_row3\" class=\"row_heading level0 row3\" >100</th> \n",
       "        <td id=\"T_4c0adf40_191d_11e8_9b66_acde48001122row3_col0\" class=\"data row3 col0\" >103</td> \n",
       "        <td id=\"T_4c0adf40_191d_11e8_9b66_acde48001122row3_col1\" class=\"data row3 col1\" >Singed Scalpel</td> \n",
       "        <td id=\"T_4c0adf40_191d_11e8_9b66_acde48001122row3_col2\" class=\"data row3 col2\" >6</td> \n",
       "        <td id=\"T_4c0adf40_191d_11e8_9b66_acde48001122row3_col3\" class=\"data row3 col3\" >$4.87</td> \n",
       "        <td id=\"T_4c0adf40_191d_11e8_9b66_acde48001122row3_col4\" class=\"data row3 col4\" >$29.22</td> \n",
       "    </tr>    <tr> \n",
       "        <th id=\"T_4c0adf40_191d_11e8_9b66_acde48001122level0_row4\" class=\"row_heading level0 row4\" >164</th> \n",
       "        <td id=\"T_4c0adf40_191d_11e8_9b66_acde48001122row4_col0\" class=\"data row4 col0\" >107</td> \n",
       "        <td id=\"T_4c0adf40_191d_11e8_9b66_acde48001122row4_col1\" class=\"data row4 col1\" >Splitter, Foe Of Subtlety</td> \n",
       "        <td id=\"T_4c0adf40_191d_11e8_9b66_acde48001122row4_col2\" class=\"data row4 col2\" >8</td> \n",
       "        <td id=\"T_4c0adf40_191d_11e8_9b66_acde48001122row4_col3\" class=\"data row4 col3\" >$3.61</td> \n",
       "        <td id=\"T_4c0adf40_191d_11e8_9b66_acde48001122row4_col4\" class=\"data row4 col4\" >$28.88</td> \n",
       "    </tr></tbody> \n",
       "</table> "
      ],
      "text/plain": [
       "<pandas.io.formats.style.Styler at 0x111d4b4e0>"
      ]
     },
     "execution_count": 568,
     "metadata": {},
     "output_type": "execute_result"
    }
   ],
   "source": [
    "sorted_profitable_item_df = item_purchasing_analysis_df.sort_values(\"Total Purchase Value\",ascending=False).head(5)\n",
    "\n",
    "sorted_profitable_item_df.style.format({\n",
    "    'Item Price': '${:,.2f}'.format,\n",
    "    'Total Purchase Value': '${:,.2f}'.format\n",
    "    })"
   ]
  },
  {
   "cell_type": "code",
   "execution_count": null,
   "metadata": {
    "collapsed": true
   },
   "outputs": [],
   "source": []
  }
 ],
 "metadata": {
  "kernelspec": {
   "display_name": "Python 3",
   "language": "python",
   "name": "python3"
  },
  "language_info": {
   "codemirror_mode": {
    "name": "ipython",
    "version": 3
   },
   "file_extension": ".py",
   "mimetype": "text/x-python",
   "name": "python",
   "nbconvert_exporter": "python",
   "pygments_lexer": "ipython3",
   "version": "3.6.3"
  }
 },
 "nbformat": 4,
 "nbformat_minor": 2
}
